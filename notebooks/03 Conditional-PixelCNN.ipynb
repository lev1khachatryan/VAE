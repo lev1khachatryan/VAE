{
 "cells": [
  {
   "cell_type": "markdown",
   "metadata": {},
   "source": [
    "<h1><center>Conditional Pixel CNN</center></h1>"
   ]
  },
  {
   "cell_type": "markdown",
   "metadata": {},
   "source": [
    "[The original ***Pixel Recurrent Neural Networks*** paper](https://arxiv.org/abs/1601.06759)\n",
    "\n",
    "[The original ***Conditional Image Generation with PixelCNN Decoders*** paper](https://arxiv.org/abs/1606.05328)\n",
    "\n",
    "[PixelCNN](http://sergeiturukin.com/2017/02/22/pixelcnn.html)\n",
    "\n",
    "[Gated PixelCNN](http://sergeiturukin.com/2017/02/24/gated-pixelcnn.html)\n",
    "\n",
    "[Conditional PixelCNN](https://jrbtaylor.github.io/conditional-pixelcnn/)"
   ]
  }
 ],
 "metadata": {
  "kernelspec": {
   "display_name": "tf_2",
   "language": "python",
   "name": "tf_2"
  },
  "language_info": {
   "codemirror_mode": {
    "name": "ipython",
    "version": 3
   },
   "file_extension": ".py",
   "mimetype": "text/x-python",
   "name": "python",
   "nbconvert_exporter": "python",
   "pygments_lexer": "ipython3",
   "version": "3.6.9"
  }
 },
 "nbformat": 4,
 "nbformat_minor": 4
}
