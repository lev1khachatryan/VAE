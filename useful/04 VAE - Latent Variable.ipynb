{
 "cells": [
  {
   "cell_type": "markdown",
   "metadata": {},
   "source": [
    "<h1><center>VAE - Latent Variable</center></h1>"
   ]
  },
  {
   "cell_type": "markdown",
   "metadata": {},
   "source": [
    " "
   ]
  },
  {
   "cell_type": "markdown",
   "metadata": {},
   "source": [
    "Latent variables are variables that are part of the model, but which we don’t observe, and are therefore not part of the dataset. We typically use $z$ to denote such latent variables. In case of unconditional modeling of observed variable $x$, the directed graphical model would then represent a joint distribution $p_{\\theta}(x, z)$ over both the observed variables $x$ and the latent variables $z$. The marginal distribution over the observed variables $p_{\\theta}(x)$, is given by:\n",
    "\n",
    "<center>$ p_{\\theta}(x) = \\int p_{\\theta}(x, z)dz $</center>\n",
    "Such an implicit distribution over $x$ can be quite flexible. If $z$ is discrete and $p_{\\theta}(x|z)$ is a Gaussian distribution, then $p_{\\theta}(x)$ is a mixture-of-Gaussians distribution. For continuous $z$, $p_{\\theta}(x)$ can be seen as an infinite mixture, which are potentially more powerful than discrete mixtures. Such marginal distributions are also called compound probability distributions."
   ]
  },
  {
   "cell_type": "markdown",
   "metadata": {},
   "source": [
    "\n"
   ]
  },
  {
   "cell_type": "markdown",
   "metadata": {},
   "source": [
    "We use the term ***deep latent variable model (DLVM)*** to denote a latent variable model $p_{\\theta}(x, z)$ whose distributions are parameterized by neural networks. Such a model can be conditioned on some context, like $p_{\\theta}(x, z|y)$. One important advantage of DLVMs, is that even when each factor (prior or conditional distribution) in the directed model is relatively simple (such as conditional Gaussian), the marginal distribution $p_{\\theta}(x)$ can be very complex, i.e. contain almost arbitrary dependencies. This expressivity makes deep latent-variable models attractive for approximating complicated underlying distributions $p^*(x)$.\n",
    "\n",
    "Perhaps the simplest, and most common, DLVM is one that is specified as factorization with the following structure: \n",
    "<center>$ p_{\\theta}(x, z) = p_{\\theta}(z) p_{\\theta}(x|z) $</center>\n",
    "\n",
    "where $p_{\\theta}(z)$ and/or $p_{\\theta}(x|z)$ are specified. The distribution $p(z)$ is often called the ***prior distribution*** over $z$, since it is not conditioned on any observations."
   ]
  },
  {
   "cell_type": "markdown",
   "metadata": {},
   "source": [
    " "
   ]
  },
  {
   "cell_type": "markdown",
   "metadata": {},
   "source": [
    " "
   ]
  },
  {
   "cell_type": "markdown",
   "metadata": {},
   "source": [
    " "
   ]
  },
  {
   "cell_type": "markdown",
   "metadata": {},
   "source": [
    " "
   ]
  },
  {
   "cell_type": "markdown",
   "metadata": {},
   "source": [
    " "
   ]
  }
 ],
 "metadata": {
  "kernelspec": {
   "display_name": "Python 3",
   "language": "python",
   "name": "python3"
  },
  "language_info": {
   "codemirror_mode": {
    "name": "ipython",
    "version": 3
   },
   "file_extension": ".py",
   "mimetype": "text/x-python",
   "name": "python",
   "nbconvert_exporter": "python",
   "pygments_lexer": "ipython3",
   "version": "3.6.9"
  }
 },
 "nbformat": 4,
 "nbformat_minor": 4
}
